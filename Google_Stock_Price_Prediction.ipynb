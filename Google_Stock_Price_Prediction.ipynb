{
  "nbformat": 4,
  "nbformat_minor": 0,
  "metadata": {
    "colab": {
      "provenance": [],
      "authorship_tag": "ABX9TyN1fbWZptq2N+yqdeWa9G3L",
      "include_colab_link": true
    },
    "kernelspec": {
      "name": "python3",
      "display_name": "Python 3"
    },
    "language_info": {
      "name": "python"
    }
  },
  "cells": [
    {
      "cell_type": "markdown",
      "metadata": {
        "id": "view-in-github",
        "colab_type": "text"
      },
      "source": [
        "<a href=\"https://colab.research.google.com/github/poojayadao12/Google-Stock-Price-Prediction/blob/main/Google_Stock_Price_Prediction.ipynb\" target=\"_parent\"><img src=\"https://colab.research.google.com/assets/colab-badge.svg\" alt=\"Open In Colab\"/></a>"
      ]
    },
    {
      "cell_type": "code",
      "execution_count": null,
      "metadata": {
        "id": "O2r2PhwWOG_7"
      },
      "outputs": [],
      "source": [
        "# Import Libraries\n",
        "import os\n",
        "import numpy as np\n",
        "import pandas as pd\n",
        "import matplotlib.pyplot as plt\n",
        "from sklearn.preprocessing import MinMaxScaler\n",
        "%matplotlib inline"
      ]
    },
    {
      "cell_type": "code",
      "source": [
        "from google.colab import drive\n",
        "drive.mount('/content/drive')"
      ],
      "metadata": {
        "colab": {
          "base_uri": "https://localhost:8080/"
        },
        "id": "CsPKsdwURdHI",
        "outputId": "4b3fba11-6a88-4480-af30-52817fa89954"
      },
      "execution_count": null,
      "outputs": [
        {
          "output_type": "stream",
          "name": "stdout",
          "text": [
            "Mounted at /content/drive\n"
          ]
        }
      ]
    },
    {
      "cell_type": "code",
      "source": [
        "# Get dataset Uploaded\n",
        "dataset_train = pd.read_csv('/content/Google_Stock_Price_Train.csv')\n",
        "dataset_train.head()"
      ],
      "metadata": {
        "colab": {
          "base_uri": "https://localhost:8080/",
          "height": 206
        },
        "id": "EtA2EGQzQH7d",
        "outputId": "da22097e-0820-415f-9f76-d803283925b7"
      },
      "execution_count": null,
      "outputs": [
        {
          "output_type": "execute_result",
          "data": {
            "text/plain": [
              "       Date    Open    High     Low   Close      Volume\n",
              "0  1/3/2012  325.25  332.83  324.97  663.59   7,380,500\n",
              "1  1/4/2012  331.27  333.87  329.08  666.45   5,749,400\n",
              "2  1/5/2012  329.83  330.75  326.89  657.21   6,590,300\n",
              "3  1/6/2012  328.34  328.77  323.68  648.24   5,405,900\n",
              "4  1/9/2012  322.04  322.29  309.46  620.76  11,688,800"
            ],
            "text/html": [
              "\n",
              "  <div id=\"df-3b3b598f-9735-4207-8504-e88a1247f5b1\" class=\"colab-df-container\">\n",
              "    <div>\n",
              "<style scoped>\n",
              "    .dataframe tbody tr th:only-of-type {\n",
              "        vertical-align: middle;\n",
              "    }\n",
              "\n",
              "    .dataframe tbody tr th {\n",
              "        vertical-align: top;\n",
              "    }\n",
              "\n",
              "    .dataframe thead th {\n",
              "        text-align: right;\n",
              "    }\n",
              "</style>\n",
              "<table border=\"1\" class=\"dataframe\">\n",
              "  <thead>\n",
              "    <tr style=\"text-align: right;\">\n",
              "      <th></th>\n",
              "      <th>Date</th>\n",
              "      <th>Open</th>\n",
              "      <th>High</th>\n",
              "      <th>Low</th>\n",
              "      <th>Close</th>\n",
              "      <th>Volume</th>\n",
              "    </tr>\n",
              "  </thead>\n",
              "  <tbody>\n",
              "    <tr>\n",
              "      <th>0</th>\n",
              "      <td>1/3/2012</td>\n",
              "      <td>325.25</td>\n",
              "      <td>332.83</td>\n",
              "      <td>324.97</td>\n",
              "      <td>663.59</td>\n",
              "      <td>7,380,500</td>\n",
              "    </tr>\n",
              "    <tr>\n",
              "      <th>1</th>\n",
              "      <td>1/4/2012</td>\n",
              "      <td>331.27</td>\n",
              "      <td>333.87</td>\n",
              "      <td>329.08</td>\n",
              "      <td>666.45</td>\n",
              "      <td>5,749,400</td>\n",
              "    </tr>\n",
              "    <tr>\n",
              "      <th>2</th>\n",
              "      <td>1/5/2012</td>\n",
              "      <td>329.83</td>\n",
              "      <td>330.75</td>\n",
              "      <td>326.89</td>\n",
              "      <td>657.21</td>\n",
              "      <td>6,590,300</td>\n",
              "    </tr>\n",
              "    <tr>\n",
              "      <th>3</th>\n",
              "      <td>1/6/2012</td>\n",
              "      <td>328.34</td>\n",
              "      <td>328.77</td>\n",
              "      <td>323.68</td>\n",
              "      <td>648.24</td>\n",
              "      <td>5,405,900</td>\n",
              "    </tr>\n",
              "    <tr>\n",
              "      <th>4</th>\n",
              "      <td>1/9/2012</td>\n",
              "      <td>322.04</td>\n",
              "      <td>322.29</td>\n",
              "      <td>309.46</td>\n",
              "      <td>620.76</td>\n",
              "      <td>11,688,800</td>\n",
              "    </tr>\n",
              "  </tbody>\n",
              "</table>\n",
              "</div>\n",
              "    <div class=\"colab-df-buttons\">\n",
              "\n",
              "  <div class=\"colab-df-container\">\n",
              "    <button class=\"colab-df-convert\" onclick=\"convertToInteractive('df-3b3b598f-9735-4207-8504-e88a1247f5b1')\"\n",
              "            title=\"Convert this dataframe to an interactive table.\"\n",
              "            style=\"display:none;\">\n",
              "\n",
              "  <svg xmlns=\"http://www.w3.org/2000/svg\" height=\"24px\" viewBox=\"0 -960 960 960\">\n",
              "    <path d=\"M120-120v-720h720v720H120Zm60-500h600v-160H180v160Zm220 220h160v-160H400v160Zm0 220h160v-160H400v160ZM180-400h160v-160H180v160Zm440 0h160v-160H620v160ZM180-180h160v-160H180v160Zm440 0h160v-160H620v160Z\"/>\n",
              "  </svg>\n",
              "    </button>\n",
              "\n",
              "  <style>\n",
              "    .colab-df-container {\n",
              "      display:flex;\n",
              "      gap: 12px;\n",
              "    }\n",
              "\n",
              "    .colab-df-convert {\n",
              "      background-color: #E8F0FE;\n",
              "      border: none;\n",
              "      border-radius: 50%;\n",
              "      cursor: pointer;\n",
              "      display: none;\n",
              "      fill: #1967D2;\n",
              "      height: 32px;\n",
              "      padding: 0 0 0 0;\n",
              "      width: 32px;\n",
              "    }\n",
              "\n",
              "    .colab-df-convert:hover {\n",
              "      background-color: #E2EBFA;\n",
              "      box-shadow: 0px 1px 2px rgba(60, 64, 67, 0.3), 0px 1px 3px 1px rgba(60, 64, 67, 0.15);\n",
              "      fill: #174EA6;\n",
              "    }\n",
              "\n",
              "    .colab-df-buttons div {\n",
              "      margin-bottom: 4px;\n",
              "    }\n",
              "\n",
              "    [theme=dark] .colab-df-convert {\n",
              "      background-color: #3B4455;\n",
              "      fill: #D2E3FC;\n",
              "    }\n",
              "\n",
              "    [theme=dark] .colab-df-convert:hover {\n",
              "      background-color: #434B5C;\n",
              "      box-shadow: 0px 1px 3px 1px rgba(0, 0, 0, 0.15);\n",
              "      filter: drop-shadow(0px 1px 2px rgba(0, 0, 0, 0.3));\n",
              "      fill: #FFFFFF;\n",
              "    }\n",
              "  </style>\n",
              "\n",
              "    <script>\n",
              "      const buttonEl =\n",
              "        document.querySelector('#df-3b3b598f-9735-4207-8504-e88a1247f5b1 button.colab-df-convert');\n",
              "      buttonEl.style.display =\n",
              "        google.colab.kernel.accessAllowed ? 'block' : 'none';\n",
              "\n",
              "      async function convertToInteractive(key) {\n",
              "        const element = document.querySelector('#df-3b3b598f-9735-4207-8504-e88a1247f5b1');\n",
              "        const dataTable =\n",
              "          await google.colab.kernel.invokeFunction('convertToInteractive',\n",
              "                                                    [key], {});\n",
              "        if (!dataTable) return;\n",
              "\n",
              "        const docLinkHtml = 'Like what you see? Visit the ' +\n",
              "          '<a target=\"_blank\" href=https://colab.research.google.com/notebooks/data_table.ipynb>data table notebook</a>'\n",
              "          + ' to learn more about interactive tables.';\n",
              "        element.innerHTML = '';\n",
              "        dataTable['output_type'] = 'display_data';\n",
              "        await google.colab.output.renderOutput(dataTable, element);\n",
              "        const docLink = document.createElement('div');\n",
              "        docLink.innerHTML = docLinkHtml;\n",
              "        element.appendChild(docLink);\n",
              "      }\n",
              "    </script>\n",
              "  </div>\n",
              "\n",
              "\n",
              "<div id=\"df-c5911564-8bab-46b4-935d-ec4aa444f769\">\n",
              "  <button class=\"colab-df-quickchart\" onclick=\"quickchart('df-c5911564-8bab-46b4-935d-ec4aa444f769')\"\n",
              "            title=\"Suggest charts.\"\n",
              "            style=\"display:none;\">\n",
              "\n",
              "<svg xmlns=\"http://www.w3.org/2000/svg\" height=\"24px\"viewBox=\"0 0 24 24\"\n",
              "     width=\"24px\">\n",
              "    <g>\n",
              "        <path d=\"M19 3H5c-1.1 0-2 .9-2 2v14c0 1.1.9 2 2 2h14c1.1 0 2-.9 2-2V5c0-1.1-.9-2-2-2zM9 17H7v-7h2v7zm4 0h-2V7h2v10zm4 0h-2v-4h2v4z\"/>\n",
              "    </g>\n",
              "</svg>\n",
              "  </button>\n",
              "\n",
              "<style>\n",
              "  .colab-df-quickchart {\n",
              "      --bg-color: #E8F0FE;\n",
              "      --fill-color: #1967D2;\n",
              "      --hover-bg-color: #E2EBFA;\n",
              "      --hover-fill-color: #174EA6;\n",
              "      --disabled-fill-color: #AAA;\n",
              "      --disabled-bg-color: #DDD;\n",
              "  }\n",
              "\n",
              "  [theme=dark] .colab-df-quickchart {\n",
              "      --bg-color: #3B4455;\n",
              "      --fill-color: #D2E3FC;\n",
              "      --hover-bg-color: #434B5C;\n",
              "      --hover-fill-color: #FFFFFF;\n",
              "      --disabled-bg-color: #3B4455;\n",
              "      --disabled-fill-color: #666;\n",
              "  }\n",
              "\n",
              "  .colab-df-quickchart {\n",
              "    background-color: var(--bg-color);\n",
              "    border: none;\n",
              "    border-radius: 50%;\n",
              "    cursor: pointer;\n",
              "    display: none;\n",
              "    fill: var(--fill-color);\n",
              "    height: 32px;\n",
              "    padding: 0;\n",
              "    width: 32px;\n",
              "  }\n",
              "\n",
              "  .colab-df-quickchart:hover {\n",
              "    background-color: var(--hover-bg-color);\n",
              "    box-shadow: 0 1px 2px rgba(60, 64, 67, 0.3), 0 1px 3px 1px rgba(60, 64, 67, 0.15);\n",
              "    fill: var(--button-hover-fill-color);\n",
              "  }\n",
              "\n",
              "  .colab-df-quickchart-complete:disabled,\n",
              "  .colab-df-quickchart-complete:disabled:hover {\n",
              "    background-color: var(--disabled-bg-color);\n",
              "    fill: var(--disabled-fill-color);\n",
              "    box-shadow: none;\n",
              "  }\n",
              "\n",
              "  .colab-df-spinner {\n",
              "    border: 2px solid var(--fill-color);\n",
              "    border-color: transparent;\n",
              "    border-bottom-color: var(--fill-color);\n",
              "    animation:\n",
              "      spin 1s steps(1) infinite;\n",
              "  }\n",
              "\n",
              "  @keyframes spin {\n",
              "    0% {\n",
              "      border-color: transparent;\n",
              "      border-bottom-color: var(--fill-color);\n",
              "      border-left-color: var(--fill-color);\n",
              "    }\n",
              "    20% {\n",
              "      border-color: transparent;\n",
              "      border-left-color: var(--fill-color);\n",
              "      border-top-color: var(--fill-color);\n",
              "    }\n",
              "    30% {\n",
              "      border-color: transparent;\n",
              "      border-left-color: var(--fill-color);\n",
              "      border-top-color: var(--fill-color);\n",
              "      border-right-color: var(--fill-color);\n",
              "    }\n",
              "    40% {\n",
              "      border-color: transparent;\n",
              "      border-right-color: var(--fill-color);\n",
              "      border-top-color: var(--fill-color);\n",
              "    }\n",
              "    60% {\n",
              "      border-color: transparent;\n",
              "      border-right-color: var(--fill-color);\n",
              "    }\n",
              "    80% {\n",
              "      border-color: transparent;\n",
              "      border-right-color: var(--fill-color);\n",
              "      border-bottom-color: var(--fill-color);\n",
              "    }\n",
              "    90% {\n",
              "      border-color: transparent;\n",
              "      border-bottom-color: var(--fill-color);\n",
              "    }\n",
              "  }\n",
              "</style>\n",
              "\n",
              "  <script>\n",
              "    async function quickchart(key) {\n",
              "      const quickchartButtonEl =\n",
              "        document.querySelector('#' + key + ' button');\n",
              "      quickchartButtonEl.disabled = true;  // To prevent multiple clicks.\n",
              "      quickchartButtonEl.classList.add('colab-df-spinner');\n",
              "      try {\n",
              "        const charts = await google.colab.kernel.invokeFunction(\n",
              "            'suggestCharts', [key], {});\n",
              "      } catch (error) {\n",
              "        console.error('Error during call to suggestCharts:', error);\n",
              "      }\n",
              "      quickchartButtonEl.classList.remove('colab-df-spinner');\n",
              "      quickchartButtonEl.classList.add('colab-df-quickchart-complete');\n",
              "    }\n",
              "    (() => {\n",
              "      let quickchartButtonEl =\n",
              "        document.querySelector('#df-c5911564-8bab-46b4-935d-ec4aa444f769 button');\n",
              "      quickchartButtonEl.style.display =\n",
              "        google.colab.kernel.accessAllowed ? 'block' : 'none';\n",
              "    })();\n",
              "  </script>\n",
              "</div>\n",
              "    </div>\n",
              "  </div>\n"
            ]
          },
          "metadata": {},
          "execution_count": 7
        }
      ]
    },
    {
      "cell_type": "code",
      "source": [
        "training_set = dataset_train.iloc[:,1:2].values\n",
        "print(training_set)\n",
        "print(training_set.shape)"
      ],
      "metadata": {
        "colab": {
          "base_uri": "https://localhost:8080/"
        },
        "id": "lXhtY6XFREjC",
        "outputId": "e86f53f3-43ee-4336-8289-661fcf648a7d"
      },
      "execution_count": null,
      "outputs": [
        {
          "output_type": "stream",
          "name": "stdout",
          "text": [
            "[[325.25]\n",
            " [331.27]\n",
            " [329.83]\n",
            " ...\n",
            " [793.7 ]\n",
            " [783.33]\n",
            " [782.75]]\n",
            "(1258, 1)\n"
          ]
        }
      ]
    },
    {
      "cell_type": "code",
      "source": [
        "# Scaling using Min Max Scaler\n",
        "scaler = MinMaxScaler(feature_range = (0,1))\n",
        "scaled_training_set = scaler.fit_transform(training_set)\n",
        "scaled_training_set"
      ],
      "metadata": {
        "colab": {
          "base_uri": "https://localhost:8080/"
        },
        "id": "L8Yen50SSwSi",
        "outputId": "a4c39702-fb21-4592-9e13-eedf08532eae"
      },
      "execution_count": null,
      "outputs": [
        {
          "output_type": "execute_result",
          "data": {
            "text/plain": [
              "array([[0.08581368],\n",
              "       [0.09701243],\n",
              "       [0.09433366],\n",
              "       ...,\n",
              "       [0.95725128],\n",
              "       [0.93796041],\n",
              "       [0.93688146]])"
            ]
          },
          "metadata": {},
          "execution_count": 10
        }
      ]
    },
    {
      "cell_type": "code",
      "source": [
        "# Set the training data\n",
        "X_train = []\n",
        "Y_train = []\n",
        "for i in range(60,1258):\n",
        "    X_train.append(scaled_training_set[i-60:i,0])\n",
        "    Y_train.append(scaled_training_set[i,0])\n",
        "X_train = np.array(X_train)\n",
        "Y_train = np.array(Y_train)"
      ],
      "metadata": {
        "id": "rfJvj-iETJWu"
      },
      "execution_count": null,
      "outputs": []
    },
    {
      "cell_type": "code",
      "source": [
        "print(X_train.shape)\n",
        "print(Y_train.shape)"
      ],
      "metadata": {
        "colab": {
          "base_uri": "https://localhost:8080/"
        },
        "id": "mJ13IgeGTiVU",
        "outputId": "f422a1f4-62b0-4c41-9fdc-d1dddec13cb4"
      },
      "execution_count": null,
      "outputs": [
        {
          "output_type": "stream",
          "name": "stdout",
          "text": [
            "(1198, 60)\n",
            "(1198,)\n"
          ]
        }
      ]
    },
    {
      "cell_type": "code",
      "source": [
        "X_train = np.reshape(X_train,(X_train.shape[0],X_train.shape[1],1))\n",
        "X_train.shape"
      ],
      "metadata": {
        "colab": {
          "base_uri": "https://localhost:8080/"
        },
        "id": "WK7M-3IiTk_y",
        "outputId": "68bbc196-8849-4a22-d573-9e22e6a06129"
      },
      "execution_count": null,
      "outputs": [
        {
          "output_type": "execute_result",
          "data": {
            "text/plain": [
              "(1198, 60, 1)"
            ]
          },
          "metadata": {},
          "execution_count": 13
        }
      ]
    },
    {
      "cell_type": "markdown",
      "source": [
        "# Importing the Crucial Libraries and Adding Different Layers to LSTM for Building the Model."
      ],
      "metadata": {
        "id": "YzQOlo-pTxGe"
      }
    },
    {
      "cell_type": "code",
      "source": [
        "!pip install Keras"
      ],
      "metadata": {
        "colab": {
          "base_uri": "https://localhost:8080/"
        },
        "id": "oPIOEcadTr-W",
        "outputId": "f9159e9b-fdd9-47ba-8e2b-95f56f571402"
      },
      "execution_count": null,
      "outputs": [
        {
          "output_type": "stream",
          "name": "stdout",
          "text": [
            "Requirement already satisfied: Keras in /usr/local/lib/python3.10/dist-packages (2.14.0)\n"
          ]
        }
      ]
    },
    {
      "cell_type": "code",
      "source": [
        "!pip install tensorflow"
      ],
      "metadata": {
        "colab": {
          "base_uri": "https://localhost:8080/"
        },
        "id": "xKT8S6V2UCyZ",
        "outputId": "475e00c3-073e-46a3-ad0d-0939dd2bd5f2"
      },
      "execution_count": null,
      "outputs": [
        {
          "output_type": "stream",
          "name": "stdout",
          "text": [
            "Requirement already satisfied: tensorflow in /usr/local/lib/python3.10/dist-packages (2.14.0)\n",
            "Requirement already satisfied: absl-py>=1.0.0 in /usr/local/lib/python3.10/dist-packages (from tensorflow) (1.4.0)\n",
            "Requirement already satisfied: astunparse>=1.6.0 in /usr/local/lib/python3.10/dist-packages (from tensorflow) (1.6.3)\n",
            "Requirement already satisfied: flatbuffers>=23.5.26 in /usr/local/lib/python3.10/dist-packages (from tensorflow) (23.5.26)\n",
            "Requirement already satisfied: gast!=0.5.0,!=0.5.1,!=0.5.2,>=0.2.1 in /usr/local/lib/python3.10/dist-packages (from tensorflow) (0.5.4)\n",
            "Requirement already satisfied: google-pasta>=0.1.1 in /usr/local/lib/python3.10/dist-packages (from tensorflow) (0.2.0)\n",
            "Requirement already satisfied: h5py>=2.9.0 in /usr/local/lib/python3.10/dist-packages (from tensorflow) (3.9.0)\n",
            "Requirement already satisfied: libclang>=13.0.0 in /usr/local/lib/python3.10/dist-packages (from tensorflow) (16.0.6)\n",
            "Requirement already satisfied: ml-dtypes==0.2.0 in /usr/local/lib/python3.10/dist-packages (from tensorflow) (0.2.0)\n",
            "Requirement already satisfied: numpy>=1.23.5 in /usr/local/lib/python3.10/dist-packages (from tensorflow) (1.23.5)\n",
            "Requirement already satisfied: opt-einsum>=2.3.2 in /usr/local/lib/python3.10/dist-packages (from tensorflow) (3.3.0)\n",
            "Requirement already satisfied: packaging in /usr/local/lib/python3.10/dist-packages (from tensorflow) (23.2)\n",
            "Requirement already satisfied: protobuf!=4.21.0,!=4.21.1,!=4.21.2,!=4.21.3,!=4.21.4,!=4.21.5,<5.0.0dev,>=3.20.3 in /usr/local/lib/python3.10/dist-packages (from tensorflow) (3.20.3)\n",
            "Requirement already satisfied: setuptools in /usr/local/lib/python3.10/dist-packages (from tensorflow) (67.7.2)\n",
            "Requirement already satisfied: six>=1.12.0 in /usr/local/lib/python3.10/dist-packages (from tensorflow) (1.16.0)\n",
            "Requirement already satisfied: termcolor>=1.1.0 in /usr/local/lib/python3.10/dist-packages (from tensorflow) (2.3.0)\n",
            "Requirement already satisfied: typing-extensions>=3.6.6 in /usr/local/lib/python3.10/dist-packages (from tensorflow) (4.5.0)\n",
            "Requirement already satisfied: wrapt<1.15,>=1.11.0 in /usr/local/lib/python3.10/dist-packages (from tensorflow) (1.14.1)\n",
            "Requirement already satisfied: tensorflow-io-gcs-filesystem>=0.23.1 in /usr/local/lib/python3.10/dist-packages (from tensorflow) (0.34.0)\n",
            "Requirement already satisfied: grpcio<2.0,>=1.24.3 in /usr/local/lib/python3.10/dist-packages (from tensorflow) (1.59.0)\n",
            "Requirement already satisfied: tensorboard<2.15,>=2.14 in /usr/local/lib/python3.10/dist-packages (from tensorflow) (2.14.1)\n",
            "Requirement already satisfied: tensorflow-estimator<2.15,>=2.14.0 in /usr/local/lib/python3.10/dist-packages (from tensorflow) (2.14.0)\n",
            "Requirement already satisfied: keras<2.15,>=2.14.0 in /usr/local/lib/python3.10/dist-packages (from tensorflow) (2.14.0)\n",
            "Requirement already satisfied: wheel<1.0,>=0.23.0 in /usr/local/lib/python3.10/dist-packages (from astunparse>=1.6.0->tensorflow) (0.41.2)\n",
            "Requirement already satisfied: google-auth<3,>=1.6.3 in /usr/local/lib/python3.10/dist-packages (from tensorboard<2.15,>=2.14->tensorflow) (2.17.3)\n",
            "Requirement already satisfied: google-auth-oauthlib<1.1,>=0.5 in /usr/local/lib/python3.10/dist-packages (from tensorboard<2.15,>=2.14->tensorflow) (1.0.0)\n",
            "Requirement already satisfied: markdown>=2.6.8 in /usr/local/lib/python3.10/dist-packages (from tensorboard<2.15,>=2.14->tensorflow) (3.5)\n",
            "Requirement already satisfied: requests<3,>=2.21.0 in /usr/local/lib/python3.10/dist-packages (from tensorboard<2.15,>=2.14->tensorflow) (2.31.0)\n",
            "Requirement already satisfied: tensorboard-data-server<0.8.0,>=0.7.0 in /usr/local/lib/python3.10/dist-packages (from tensorboard<2.15,>=2.14->tensorflow) (0.7.2)\n",
            "Requirement already satisfied: werkzeug>=1.0.1 in /usr/local/lib/python3.10/dist-packages (from tensorboard<2.15,>=2.14->tensorflow) (3.0.1)\n",
            "Requirement already satisfied: cachetools<6.0,>=2.0.0 in /usr/local/lib/python3.10/dist-packages (from google-auth<3,>=1.6.3->tensorboard<2.15,>=2.14->tensorflow) (5.3.2)\n",
            "Requirement already satisfied: pyasn1-modules>=0.2.1 in /usr/local/lib/python3.10/dist-packages (from google-auth<3,>=1.6.3->tensorboard<2.15,>=2.14->tensorflow) (0.3.0)\n",
            "Requirement already satisfied: rsa<5,>=3.1.4 in /usr/local/lib/python3.10/dist-packages (from google-auth<3,>=1.6.3->tensorboard<2.15,>=2.14->tensorflow) (4.9)\n",
            "Requirement already satisfied: requests-oauthlib>=0.7.0 in /usr/local/lib/python3.10/dist-packages (from google-auth-oauthlib<1.1,>=0.5->tensorboard<2.15,>=2.14->tensorflow) (1.3.1)\n",
            "Requirement already satisfied: charset-normalizer<4,>=2 in /usr/local/lib/python3.10/dist-packages (from requests<3,>=2.21.0->tensorboard<2.15,>=2.14->tensorflow) (3.3.1)\n",
            "Requirement already satisfied: idna<4,>=2.5 in /usr/local/lib/python3.10/dist-packages (from requests<3,>=2.21.0->tensorboard<2.15,>=2.14->tensorflow) (3.4)\n",
            "Requirement already satisfied: urllib3<3,>=1.21.1 in /usr/local/lib/python3.10/dist-packages (from requests<3,>=2.21.0->tensorboard<2.15,>=2.14->tensorflow) (2.0.7)\n",
            "Requirement already satisfied: certifi>=2017.4.17 in /usr/local/lib/python3.10/dist-packages (from requests<3,>=2.21.0->tensorboard<2.15,>=2.14->tensorflow) (2023.7.22)\n",
            "Requirement already satisfied: MarkupSafe>=2.1.1 in /usr/local/lib/python3.10/dist-packages (from werkzeug>=1.0.1->tensorboard<2.15,>=2.14->tensorflow) (2.1.3)\n",
            "Requirement already satisfied: pyasn1<0.6.0,>=0.4.6 in /usr/local/lib/python3.10/dist-packages (from pyasn1-modules>=0.2.1->google-auth<3,>=1.6.3->tensorboard<2.15,>=2.14->tensorflow) (0.5.0)\n",
            "Requirement already satisfied: oauthlib>=3.0.0 in /usr/local/lib/python3.10/dist-packages (from requests-oauthlib>=0.7.0->google-auth-oauthlib<1.1,>=0.5->tensorboard<2.15,>=2.14->tensorflow) (3.2.2)\n"
          ]
        }
      ]
    },
    {
      "cell_type": "code",
      "source": [
        "from keras.models import Sequential\n",
        "from keras.layers import LSTM\n",
        "from keras.layers import Dense\n",
        "from keras.layers import Dropout"
      ],
      "metadata": {
        "id": "ILKRcduyUllh"
      },
      "execution_count": null,
      "outputs": []
    },
    {
      "cell_type": "code",
      "source": [
        "regressor = Sequential()\n",
        "\n",
        "regressor.add(LSTM(units=50,return_sequences= True , input_shape = (X_train.shape[1],1)))\n",
        "regressor.add(Dropout(0.2))\n",
        "\n",
        "regressor.add(LSTM(units=50,return_sequences= True ))\n",
        "regressor.add(Dropout(0.2))\n",
        "\n",
        "regressor.add(LSTM(units=50,return_sequences= True ))\n",
        "regressor.add(Dropout(0.2))\n",
        "\n",
        "regressor.add(LSTM(units=50))\n",
        "regressor.add(Dropout(0.2))\n",
        "\n",
        "regressor.add(Dense(units=1))"
      ],
      "metadata": {
        "id": "8dY52RydUs0D"
      },
      "execution_count": null,
      "outputs": []
    },
    {
      "cell_type": "code",
      "source": [
        "regressor.compile(optimizer = 'adam' , loss = 'mean_squared_error')\n",
        "regressor.fit(X_train,Y_train,epochs=100, batch_size= 22)"
      ],
      "metadata": {
        "colab": {
          "base_uri": "https://localhost:8080/"
        },
        "id": "ZfH9HeaYUxIi",
        "outputId": "94632646-d990-4f7d-db13-71814803a367"
      },
      "execution_count": null,
      "outputs": [
        {
          "output_type": "stream",
          "name": "stdout",
          "text": [
            "Epoch 1/100\n",
            "55/55 [==============================] - 16s 106ms/step - loss: 0.0285\n",
            "Epoch 2/100\n",
            "55/55 [==============================] - 7s 131ms/step - loss: 0.0055\n",
            "Epoch 3/100\n",
            "55/55 [==============================] - 6s 114ms/step - loss: 0.0050\n",
            "Epoch 4/100\n",
            "55/55 [==============================] - 8s 145ms/step - loss: 0.0045\n",
            "Epoch 5/100\n",
            "55/55 [==============================] - 7s 128ms/step - loss: 0.0061\n",
            "Epoch 6/100\n",
            "55/55 [==============================] - 8s 152ms/step - loss: 0.0048\n",
            "Epoch 7/100\n",
            "55/55 [==============================] - 7s 133ms/step - loss: 0.0041\n",
            "Epoch 8/100\n",
            "55/55 [==============================] - 7s 128ms/step - loss: 0.0045\n",
            "Epoch 9/100\n",
            "55/55 [==============================] - 7s 120ms/step - loss: 0.0043\n",
            "Epoch 10/100\n",
            "55/55 [==============================] - 6s 114ms/step - loss: 0.0044\n",
            "Epoch 11/100\n",
            "55/55 [==============================] - 9s 170ms/step - loss: 0.0038\n",
            "Epoch 12/100\n",
            "55/55 [==============================] - 7s 123ms/step - loss: 0.0039\n",
            "Epoch 13/100\n",
            "55/55 [==============================] - 7s 123ms/step - loss: 0.0037\n",
            "Epoch 14/100\n",
            "55/55 [==============================] - 6s 108ms/step - loss: 0.0035\n",
            "Epoch 15/100\n",
            "55/55 [==============================] - 8s 140ms/step - loss: 0.0035\n",
            "Epoch 16/100\n",
            "55/55 [==============================] - 6s 107ms/step - loss: 0.0034\n",
            "Epoch 17/100\n",
            "55/55 [==============================] - 8s 146ms/step - loss: 0.0032\n",
            "Epoch 18/100\n",
            "55/55 [==============================] - 8s 142ms/step - loss: 0.0033\n",
            "Epoch 19/100\n",
            "55/55 [==============================] - 13s 228ms/step - loss: 0.0034\n",
            "Epoch 20/100\n",
            "55/55 [==============================] - 13s 237ms/step - loss: 0.0029\n",
            "Epoch 21/100\n",
            "55/55 [==============================] - 7s 135ms/step - loss: 0.0035\n",
            "Epoch 22/100\n",
            "55/55 [==============================] - 8s 150ms/step - loss: 0.0034\n",
            "Epoch 23/100\n",
            "55/55 [==============================] - 9s 168ms/step - loss: 0.0028\n",
            "Epoch 24/100\n",
            "55/55 [==============================] - 7s 122ms/step - loss: 0.0030\n",
            "Epoch 25/100\n",
            "55/55 [==============================] - 8s 142ms/step - loss: 0.0026\n",
            "Epoch 26/100\n",
            "55/55 [==============================] - 6s 106ms/step - loss: 0.0027\n",
            "Epoch 27/100\n",
            "55/55 [==============================] - 8s 145ms/step - loss: 0.0030\n",
            "Epoch 28/100\n",
            "55/55 [==============================] - 8s 151ms/step - loss: 0.0031\n",
            "Epoch 29/100\n",
            "55/55 [==============================] - 8s 144ms/step - loss: 0.0029\n",
            "Epoch 30/100\n",
            "55/55 [==============================] - 7s 135ms/step - loss: 0.0028\n",
            "Epoch 31/100\n",
            "55/55 [==============================] - 8s 152ms/step - loss: 0.0027\n",
            "Epoch 32/100\n",
            "55/55 [==============================] - 6s 106ms/step - loss: 0.0026\n",
            "Epoch 33/100\n",
            "55/55 [==============================] - 9s 160ms/step - loss: 0.0024\n",
            "Epoch 34/100\n",
            "55/55 [==============================] - 6s 105ms/step - loss: 0.0027\n",
            "Epoch 35/100\n",
            "55/55 [==============================] - 8s 154ms/step - loss: 0.0026\n",
            "Epoch 36/100\n",
            "55/55 [==============================] - 6s 110ms/step - loss: 0.0022\n",
            "Epoch 37/100\n",
            "55/55 [==============================] - 9s 156ms/step - loss: 0.0028\n",
            "Epoch 38/100\n",
            "55/55 [==============================] - 8s 154ms/step - loss: 0.0023\n",
            "Epoch 39/100\n",
            "55/55 [==============================] - 10s 176ms/step - loss: 0.0024\n",
            "Epoch 40/100\n",
            "55/55 [==============================] - 6s 105ms/step - loss: 0.0022\n",
            "Epoch 41/100\n",
            "55/55 [==============================] - 8s 141ms/step - loss: 0.0023\n",
            "Epoch 42/100\n",
            "55/55 [==============================] - 6s 106ms/step - loss: 0.0022\n",
            "Epoch 43/100\n",
            "55/55 [==============================] - 8s 141ms/step - loss: 0.0021\n",
            "Epoch 44/100\n",
            "55/55 [==============================] - 6s 105ms/step - loss: 0.0022\n",
            "Epoch 45/100\n",
            "55/55 [==============================] - 8s 155ms/step - loss: 0.0023\n",
            "Epoch 46/100\n",
            "55/55 [==============================] - 6s 106ms/step - loss: 0.0023\n",
            "Epoch 47/100\n",
            "55/55 [==============================] - 8s 142ms/step - loss: 0.0024\n",
            "Epoch 48/100\n",
            "55/55 [==============================] - 6s 105ms/step - loss: 0.0019\n",
            "Epoch 49/100\n",
            "55/55 [==============================] - 7s 125ms/step - loss: 0.0019\n",
            "Epoch 50/100\n",
            "55/55 [==============================] - 7s 120ms/step - loss: 0.0018\n",
            "Epoch 51/100\n",
            "55/55 [==============================] - 6s 108ms/step - loss: 0.0019\n",
            "Epoch 52/100\n",
            "55/55 [==============================] - 8s 136ms/step - loss: 0.0020\n",
            "Epoch 53/100\n",
            "55/55 [==============================] - 6s 114ms/step - loss: 0.0020\n",
            "Epoch 54/100\n",
            "55/55 [==============================] - 10s 174ms/step - loss: 0.0020\n",
            "Epoch 55/100\n",
            "55/55 [==============================] - 6s 113ms/step - loss: 0.0017\n",
            "Epoch 56/100\n",
            "55/55 [==============================] - 8s 137ms/step - loss: 0.0018\n",
            "Epoch 57/100\n",
            "55/55 [==============================] - 7s 125ms/step - loss: 0.0019\n",
            "Epoch 58/100\n",
            "55/55 [==============================] - 8s 139ms/step - loss: 0.0016\n",
            "Epoch 59/100\n",
            "55/55 [==============================] - 6s 106ms/step - loss: 0.0017\n",
            "Epoch 60/100\n",
            "55/55 [==============================] - 8s 141ms/step - loss: 0.0016\n",
            "Epoch 61/100\n",
            "55/55 [==============================] - 6s 105ms/step - loss: 0.0017\n",
            "Epoch 62/100\n",
            "55/55 [==============================] - 8s 141ms/step - loss: 0.0015\n",
            "Epoch 63/100\n",
            "55/55 [==============================] - 6s 106ms/step - loss: 0.0015\n",
            "Epoch 64/100\n",
            "55/55 [==============================] - 7s 135ms/step - loss: 0.0017\n",
            "Epoch 65/100\n",
            "55/55 [==============================] - 6s 110ms/step - loss: 0.0016\n",
            "Epoch 66/100\n",
            "55/55 [==============================] - 7s 119ms/step - loss: 0.0018\n",
            "Epoch 67/100\n",
            "55/55 [==============================] - 7s 127ms/step - loss: 0.0019\n",
            "Epoch 68/100\n",
            "55/55 [==============================] - 6s 106ms/step - loss: 0.0019\n",
            "Epoch 69/100\n",
            "55/55 [==============================] - 8s 141ms/step - loss: 0.0017\n",
            "Epoch 70/100\n",
            "55/55 [==============================] - 6s 105ms/step - loss: 0.0015\n",
            "Epoch 71/100\n",
            "55/55 [==============================] - 8s 142ms/step - loss: 0.0016\n",
            "Epoch 72/100\n",
            "55/55 [==============================] - 6s 108ms/step - loss: 0.0015\n",
            "Epoch 73/100\n",
            "55/55 [==============================] - 8s 143ms/step - loss: 0.0017\n",
            "Epoch 74/100\n",
            "55/55 [==============================] - 6s 106ms/step - loss: 0.0015\n",
            "Epoch 75/100\n",
            "55/55 [==============================] - 7s 135ms/step - loss: 0.0013\n",
            "Epoch 76/100\n",
            "55/55 [==============================] - 6s 111ms/step - loss: 0.0016\n",
            "Epoch 77/100\n",
            "55/55 [==============================] - 7s 122ms/step - loss: 0.0014\n",
            "Epoch 78/100\n",
            "55/55 [==============================] - 7s 125ms/step - loss: 0.0016\n",
            "Epoch 79/100\n",
            "55/55 [==============================] - 6s 107ms/step - loss: 0.0015\n",
            "Epoch 80/100\n",
            "55/55 [==============================] - 8s 139ms/step - loss: 0.0017\n",
            "Epoch 81/100\n",
            "55/55 [==============================] - 6s 106ms/step - loss: 0.0016\n",
            "Epoch 82/100\n",
            "55/55 [==============================] - 8s 142ms/step - loss: 0.0015\n",
            "Epoch 83/100\n",
            "55/55 [==============================] - 6s 107ms/step - loss: 0.0013\n",
            "Epoch 84/100\n",
            "55/55 [==============================] - 8s 141ms/step - loss: 0.0014\n",
            "Epoch 85/100\n",
            "55/55 [==============================] - 6s 105ms/step - loss: 0.0015\n",
            "Epoch 86/100\n",
            "55/55 [==============================] - 7s 135ms/step - loss: 0.0014\n",
            "Epoch 87/100\n",
            "55/55 [==============================] - 6s 111ms/step - loss: 0.0014\n",
            "Epoch 88/100\n",
            "55/55 [==============================] - 6s 118ms/step - loss: 0.0014\n",
            "Epoch 89/100\n",
            "55/55 [==============================] - 7s 127ms/step - loss: 0.0013\n",
            "Epoch 90/100\n",
            "55/55 [==============================] - 6s 106ms/step - loss: 0.0013\n",
            "Epoch 91/100\n",
            "55/55 [==============================] - 8s 141ms/step - loss: 0.0013\n",
            "Epoch 92/100\n",
            "55/55 [==============================] - 6s 105ms/step - loss: 0.0013\n",
            "Epoch 93/100\n",
            "55/55 [==============================] - 8s 141ms/step - loss: 0.0013\n",
            "Epoch 94/100\n",
            "55/55 [==============================] - 6s 106ms/step - loss: 0.0012\n",
            "Epoch 95/100\n",
            "55/55 [==============================] - 9s 159ms/step - loss: 0.0013\n",
            "Epoch 96/100\n",
            "55/55 [==============================] - 7s 128ms/step - loss: 0.0014\n",
            "Epoch 97/100\n",
            "55/55 [==============================] - 7s 121ms/step - loss: 0.0013\n",
            "Epoch 98/100\n",
            "55/55 [==============================] - 7s 128ms/step - loss: 0.0012\n",
            "Epoch 99/100\n",
            "55/55 [==============================] - 6s 109ms/step - loss: 0.0014\n",
            "Epoch 100/100\n",
            "55/55 [==============================] - 8s 140ms/step - loss: 0.0013\n"
          ]
        },
        {
          "output_type": "execute_result",
          "data": {
            "text/plain": [
              "<keras.src.callbacks.History at 0x7fd2d01676a0>"
            ]
          },
          "metadata": {},
          "execution_count": 21
        }
      ]
    },
    {
      "cell_type": "markdown",
      "source": [
        "# Extracting the Actual Stock Prices of Jan-2017"
      ],
      "metadata": {
        "id": "rd1JWIdkVCAp"
      }
    },
    {
      "cell_type": "code",
      "source": [
        "dataset_test = pd.read_csv('/content/Google_Stock_Price_Train.csv')\n",
        "actual_stock_price = dataset_test.iloc[:,1:2].values"
      ],
      "metadata": {
        "id": "695vLAg1U16t"
      },
      "execution_count": null,
      "outputs": []
    },
    {
      "cell_type": "markdown",
      "source": [
        "# **Preparing the Input for the Model.**"
      ],
      "metadata": {
        "id": "nOttawY8VjJt"
      }
    },
    {
      "cell_type": "code",
      "source": [
        "dataset_total = pd.concat((dataset_train['Open'],dataset_test['Open']),axis= 0)\n",
        "inputs = dataset_total[len(dataset_total)-len(dataset_test)-60:].values\n",
        "\n",
        "inputs = inputs.reshape(-1,1)\n",
        "inputs = scaler.transform(inputs)\n",
        "\n",
        "X_test =[]\n",
        "for i in range(60,80):\n",
        "    X_test.append(inputs[i-60:i,0])\n",
        "\n",
        "X_test = np.array(X_test)\n",
        "\n",
        "X_test = np.reshape(X_test, (X_test.shape[0],X_test.shape[1],1))"
      ],
      "metadata": {
        "id": "y7EDP_v-Vqxi"
      },
      "execution_count": null,
      "outputs": []
    },
    {
      "cell_type": "markdown",
      "source": [
        "**Predicting the Values for Jan 2017 Stock Prices.**"
      ],
      "metadata": {
        "id": "olRW4S1fVvg6"
      }
    },
    {
      "cell_type": "code",
      "source": [
        "predicted_stock_price = regressor.predict(X_test)\n",
        "predicted_stock_price = scaler.inverse_transform(predicted_stock_price)"
      ],
      "metadata": {
        "colab": {
          "base_uri": "https://localhost:8080/"
        },
        "id": "EvLuwl0GV1ZH",
        "outputId": "9773a76e-3121-4e80-867b-d8b786c0f9cb"
      },
      "execution_count": null,
      "outputs": [
        {
          "output_type": "stream",
          "name": "stdout",
          "text": [
            "1/1 [==============================] - 2s 2s/step\n"
          ]
        }
      ]
    },
    {
      "cell_type": "markdown",
      "source": [
        "**Plotting the Actual and Predicted Prices for Google Stocks.**"
      ],
      "metadata": {
        "id": "0YnXgb9hV4xQ"
      }
    },
    {
      "cell_type": "code",
      "source": [
        "plt.plot(actual_stock_price, color ='red' ,label= 'actual google stock price')\n",
        "plt.plot(predicted_stock_price, color ='green' ,label= 'predicted google stock price')\n",
        "plt.title('Google stock price Prediction')\n",
        "plt.xlabel('Time')\n",
        "plt.ylabel('Google stock price')\n",
        "plt.legend()"
      ],
      "metadata": {
        "colab": {
          "base_uri": "https://localhost:8080/",
          "height": 489
        },
        "id": "zpIIHvDCV8RP",
        "outputId": "84d052df-eb24-426e-ea0f-ae50fb4e8fb9"
      },
      "execution_count": null,
      "outputs": [
        {
          "output_type": "execute_result",
          "data": {
            "text/plain": [
              "<matplotlib.legend.Legend at 0x7fd2c9d571f0>"
            ]
          },
          "metadata": {},
          "execution_count": 29
        },
        {
          "output_type": "display_data",
          "data": {
            "text/plain": [
              "<Figure size 640x480 with 1 Axes>"
            ],
            "image/png": "[encoded data removed]"
          },
          "metadata": {}
        }
      ]
    },
    {
      "cell_type": "code",
      "source": [],
      "metadata": {
        "id": "2Y5MPOVVey7U"
      },
      "execution_count": null,
      "outputs": []
    }
  ]
}